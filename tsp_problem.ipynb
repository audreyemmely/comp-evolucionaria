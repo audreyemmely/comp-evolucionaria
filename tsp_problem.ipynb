{
  "nbformat": 4,
  "nbformat_minor": 0,
  "metadata": {
    "colab": {
      "name": "tsp_problem.ipynb",
      "provenance": [],
      "collapsed_sections": [],
      "authorship_tag": "ABX9TyP2WZIDfy1MpnyyUGL9TpE6",
      "include_colab_link": true
    },
    "kernelspec": {
      "name": "python3",
      "display_name": "Python 3"
    },
    "language_info": {
      "name": "python"
    }
  },
  "cells": [
    {
      "cell_type": "markdown",
      "metadata": {
        "id": "view-in-github",
        "colab_type": "text"
      },
      "source": [
        "<a href=\"https://colab.research.google.com/github/audreyemmely/comp-evolucionaria/blob/main/tsp_problem.ipynb\" target=\"_parent\"><img src=\"https://colab.research.google.com/assets/colab-badge.svg\" alt=\"Open In Colab\"/></a>"
      ]
    },
    {
      "cell_type": "markdown",
      "metadata": {
        "id": "H9ZIdC7IGquC"
      },
      "source": [
        "# **O problema**\n",
        "\n",
        "Nesse notebook, usaremos um AG para encontrar uma solução para o problema do caixeiro viajante (travelling salesman problem, TSP). O TSP é descrito da seguinte forma:\n",
        "\n",
        "*“Dada uma lista de cidades e as distâncias entre cada par de cidades, qual é o trajeto mais curto possível que visita cada cidade e retorna à cidade de origem?”*\n",
        "\n",
        "![image.png](https://miro.medium.com/max/512/1*DwB6K0KKNug7-y59Uowhsg.png)\n",
        "\n",
        "Com isso, há duas regras importantes para manter em mente:\n",
        "1.   Cada cidade precisa ser visitada exatamente uma vez\n",
        "2.   Devemos retornar à cidade de partida, então nossa distância total precisa ser calculada de acordo"
      ]
    },
    {
      "cell_type": "markdown",
      "metadata": {
        "id": "HxlrFxVUIcJe"
      },
      "source": [
        "# **A abordagem**\n",
        "\n",
        "\n",
        "\n",
        "*   Gene: uma cidade (representada como coordenadas (x, y))\n",
        "*   Indivíduo (também conhecido como \"cromossomo\"): uma única rota que satisfaça as condições acima\n",
        "*   População: uma coleção de rotas possíveis (ou seja, coleção de indivíduos)\n",
        "*   Pais: duas rotas que são combinadas para criar uma nova rota"
      ]
    }
  ]
}