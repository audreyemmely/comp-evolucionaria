{
  "nbformat": 4,
  "nbformat_minor": 0,
  "metadata": {
    "colab": {
      "name": "tsp_problem.ipynb",
      "provenance": [],
      "collapsed_sections": [],
      "authorship_tag": "ABX9TyMGGL7JlgukNT8N+AF8joBq",
      "include_colab_link": true
    },
    "kernelspec": {
      "name": "python3",
      "display_name": "Python 3"
    },
    "language_info": {
      "name": "python"
    }
  },
  "cells": [
    {
      "cell_type": "markdown",
      "metadata": {
        "id": "view-in-github",
        "colab_type": "text"
      },
      "source": [
        "<a href=\"https://colab.research.google.com/github/audreyemmely/comp-evolucionaria/blob/main/tsp_problem.ipynb\" target=\"_parent\"><img src=\"https://colab.research.google.com/assets/colab-badge.svg\" alt=\"Open In Colab\"/></a>"
      ]
    },
    {
      "cell_type": "markdown",
      "metadata": {
        "id": "H9ZIdC7IGquC"
      },
      "source": [
        "# **O problema**\n",
        "\n",
        "Nesse notebook, usaremos um AG para encontrar uma solução para o problema do caixeiro viajante (travelling salesman problem, TSP). O TSP é descrito da seguinte forma:\n",
        "\n",
        "*“Dada uma lista de cidades e as distâncias entre cada par de cidades, qual é o trajeto mais curto possível que visita cada cidade e retorna à cidade de origem?”*\n",
        "\n",
        "![image.png](https://miro.medium.com/max/512/1*DwB6K0KKNug7-y59Uowhsg.png)\n",
        "\n",
        "Com isso, há duas regras importantes para manter em mente:\n",
        "1.   Cada cidade precisa ser visitada exatamente uma vez\n",
        "2.   Devemos retornar à cidade de partida, então nossa distância total precisa ser calculada de acordo"
      ]
    },
    {
      "cell_type": "markdown",
      "metadata": {
        "id": "HxlrFxVUIcJe"
      },
      "source": [
        "# **A abordagem**\n",
        "\n",
        "\n",
        "\n",
        "*   Gene: uma cidade (representada como coordenadas (x, y))\n",
        "*   Indivíduo (também conhecido como \"cromossomo\"): uma única rota que satisfaça as condições acima\n",
        "*   População: uma coleção de rotas possíveis (ou seja, coleção de indivíduos)\n",
        "*   Pais: duas rotas que são combinadas para criar uma nova rota\n",
        "*   Pool de acasalamento (mating): uma coleção de pais que são usados ​​para criar nossa próxima população (criando assim a próxima geração de rotas)\n",
        "*   Fitness: uma função que nos diz o quão bom é cada trajeto (no nosso caso, quão curta é a distância)\n",
        "*   Mutação: uma forma de introduzir variação em nossa população trocando aleatoriamente duas cidades em uma rota\n",
        "*   Elitismo: uma forma de transportar os melhores indivíduos para a próxima geração\n",
        "\n",
        "Nosso AG prosseguirá nas seguintes etapas:\n",
        "\n",
        "\n",
        "1.   Crie a população\n",
        "2.   Determine o fitness\n",
        "3.   Selecione o pool de acasalamento\n",
        "4.   Faça o cruzamento\n",
        "5.   Faça a mutação\n",
        "6.   Repita\n",
        "\n"
      ]
    },
    {
      "cell_type": "markdown",
      "metadata": {
        "id": "QI3-kQO8XsWi"
      },
      "source": [
        "# **Construindo o algoritmo genético**"
      ]
    },
    {
      "cell_type": "markdown",
      "metadata": {
        "id": "CbSWA6lyX3m8"
      },
      "source": [
        "Primeiro vamos importar as bibliotecas que serão utilizadas"
      ]
    },
    {
      "cell_type": "code",
      "metadata": {
        "id": "4E_o_E4_X17K"
      },
      "source": [
        "import numpy as np\n",
        "import pandas as pd\n",
        "import random\n",
        "import operator\n",
        "import matplotlib.pyplot as plt"
      ],
      "execution_count": 1,
      "outputs": []
    },
    {
      "cell_type": "markdown",
      "metadata": {
        "id": "yzMQyMmMY2kq"
      },
      "source": [
        "### Criando as classes \"Cidade\" e \"Fitness\"\n",
        "\n",
        "A classe ```cidade``` nos permitirá criar e administrar as cidades. Estas são simplesmente nossas coordenadas (x, y). \n",
        "\n",
        "Dentro da classe ```cidade```, criamos a função ```calc_distanc```, para calcular a distância usando o teorema de Pitágoras. E também criamos a função  ```__repr__``` para termos uma maneira mais limpa de gerar as cidades como coordenadas."
      ]
    },
    {
      "cell_type": "code",
      "metadata": {
        "id": "ylo1UehEaNRP"
      },
      "source": [
        "class Cidade:\n",
        "    def __init__(self, x, y):\n",
        "        self.x = x\n",
        "        self.y = y\n",
        "    \n",
        "    def calc_distanc(self, cidade):\n",
        "        xDis = abs(self.x - cidade.x)\n",
        "        yDis = abs(self.y - cidade.y)\n",
        "        calc_distanc = np.sqrt((xDis ** 2) + (yDis ** 2))\n",
        "        return calc_distanc\n",
        "    \n",
        "    def __repr__(self):\n",
        "        return \"(\" + str(self.x) + \",\" + str(self.y) + \")\""
      ],
      "execution_count": 2,
      "outputs": []
    },
    {
      "cell_type": "markdown",
      "metadata": {
        "id": "ZdpA7Z2Ta0La"
      },
      "source": [
        "No nosso caso, a classe ```fitness``` será o inverso da distância da rota. Queremos minimizar a distância da rota, então uma pontuação de fitness maior é melhor. Com base na regra nº 2, precisamos começar e terminar no mesmo lugar, portanto, esse cálculo extra é contabilizado em \n",
        "```\n",
        "if i + 1 < len(self.rota):\n",
        "      cidadeDeChegada = self.rota[i + 1]\n",
        "```."
      ]
    },
    {
      "cell_type": "code",
      "metadata": {
        "id": "RrYZmkhpcCqX"
      },
      "source": [
        "class Fitness:\n",
        "    def __init__(self, rota):\n",
        "        self.rota = rota\n",
        "        self.distancia = 0\n",
        "        self.fitness = 0.0\n",
        "    \n",
        "    def rotaDistancia(self):\n",
        "        if self.distancia ==0:\n",
        "            caminhoDistancia = 0\n",
        "            for i in range(0, len(self.rota)):\n",
        "                cidadeDePartida = self.rota[i]\n",
        "                cidadeDeChegada = None\n",
        "                if i + 1 < len(self.rota):\n",
        "                    cidadeDeChegada = self.rota[i + 1]\n",
        "                else:\n",
        "                    cidadeDeChegada = self.rota[0]\n",
        "                caminhoDistancia += cidadeDePartida.distancia(cidadeDeChegada)\n",
        "            self.distancia = caminhoDistancia\n",
        "        return self.distancia\n",
        "    \n",
        "    def rotaFitness(self):\n",
        "        if self.fitness == 0:\n",
        "            self.fitness = 1 / float(self.rotaDistancia())\n",
        "        return self.fitness"
      ],
      "execution_count": 3,
      "outputs": []
    },
    {
      "cell_type": "markdown",
      "metadata": {
        "id": "MvllU-Trd8-E"
      },
      "source": [
        "### Criando a população\n",
        "\n",
        "\n",
        "Agora vamos criar nossa população inicial (também conhecida como primeira geração). Para fazer isso, precisamos criar uma função que produza rotas que satisfaçam nossas condições (obs.: vamos criar a lista de cidades quando executarmos o AG posteriormente). Para criar um indivíduo, selecionamos aleatoriamente a ordem em que visitamos cada cidade."
      ]
    },
    {
      "cell_type": "code",
      "metadata": {
        "id": "s_P_GW0sfbsn"
      },
      "source": [
        "def criarRota(listaDeCidades):\n",
        "  rota = random.sample(listaDeCidades, len(listaDeCidades))\n",
        "  return rota"
      ],
      "execution_count": 4,
      "outputs": []
    },
    {
      "cell_type": "markdown",
      "metadata": {
        "id": "yZhR3bNEfmSz"
      },
      "source": [
        "Isso produz um indivíduo, mas queremos uma população completa, então vamos fazer isso na próxima função. Iremos percorrer a função ```criarRota``` até que tenhamos quantas rotas quisermos para nossa população."
      ]
    },
    {
      "cell_type": "code",
      "metadata": {
        "id": "K3jFVSihgZod"
      },
      "source": [
        "def populacaoInicial(tamPop, listaDeCidades):\n",
        "    populacao = []\n",
        "\n",
        "    for i in range(0, tamPop):\n",
        "        populacao.append(criarRota(listaDeCidades))\n",
        "    return populacao"
      ],
      "execution_count": 5,
      "outputs": []
    },
    {
      "cell_type": "markdown",
      "metadata": {
        "id": "KxFHVYY1hPCt"
      },
      "source": [
        "### Determinando fitness\n",
        "\n",
        "Para simular a “sobrevivência do mais apto”, usamos ```Fitness``` para classificar cada indivíduo na população. A saída será uma lista ordenada com os IDs de rota e cada pontuação de fitness associada."
      ]
    },
    {
      "cell_type": "code",
      "metadata": {
        "id": "y8BhOQ72hieH"
      },
      "source": [
        "def rankRota(populacao):\n",
        "    fitnessResultado = {}\n",
        "    for i in range(0,len(populacao)):\n",
        "        fitnessResultado[i] = Fitness(populacao[i]).rotaFitness()\n",
        "    return sorted(fitnessResultado.items(), key = operator.itemgetter(1), reverse = True)"
      ],
      "execution_count": 6,
      "outputs": []
    }
  ]
}