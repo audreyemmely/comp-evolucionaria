{
  "nbformat": 4,
  "nbformat_minor": 0,
  "metadata": {
    "colab": {
      "name": "tsp_problem.ipynb",
      "provenance": [],
      "collapsed_sections": [],
      "authorship_tag": "ABX9TyO9qn9aEZPN6jb8uIPSSomY",
      "include_colab_link": true
    },
    "kernelspec": {
      "name": "python3",
      "display_name": "Python 3"
    },
    "language_info": {
      "name": "python"
    }
  },
  "cells": [
    {
      "cell_type": "markdown",
      "metadata": {
        "id": "view-in-github",
        "colab_type": "text"
      },
      "source": [
        "<a href=\"https://colab.research.google.com/github/audreyemmely/comp-evolucionaria/blob/main/tsp_problem.ipynb\" target=\"_parent\"><img src=\"https://colab.research.google.com/assets/colab-badge.svg\" alt=\"Open In Colab\"/></a>"
      ]
    },
    {
      "cell_type": "markdown",
      "metadata": {
        "id": "H9ZIdC7IGquC"
      },
      "source": [
        "# **O problema**\n",
        "\n",
        "Nesse notebook, usaremos um AG para encontrar uma solução para o problema do caixeiro viajante (travelling salesman problem, TSP). O TSP é descrito da seguinte forma:\n",
        "\n",
        "*“Dada uma lista de cidades e as distâncias entre cada par de cidades, qual é o trajeto mais curto possível que visita cada cidade e retorna à cidade de origem?”*\n",
        "\n",
        "![image.png](https://miro.medium.com/max/512/1*DwB6K0KKNug7-y59Uowhsg.png)\n",
        "\n",
        "Com isso, há duas regras importantes para manter em mente:\n",
        "1.   Cada cidade precisa ser visitada exatamente uma vez\n",
        "2.   Devemos retornar à cidade de partida, então nossa distância total precisa ser calculada de acordo"
      ]
    },
    {
      "cell_type": "markdown",
      "metadata": {
        "id": "HxlrFxVUIcJe"
      },
      "source": [
        "# **A abordagem**\n",
        "\n",
        "\n",
        "\n",
        "*   Gene: uma cidade (representada como coordenadas (x, y))\n",
        "*   Indivíduo (também conhecido como \"cromossomo\"): uma única rota que satisfaça as condições acima\n",
        "*   População: uma coleção de rotas possíveis (ou seja, coleção de indivíduos)\n",
        "*   Pais: duas rotas que são combinadas para criar uma nova rota\n",
        "*   Pool de acasalamento (mating): uma coleção de pais que são usados ​​para criar nossa próxima população (criando assim a próxima geração de rotas)\n",
        "*   Fitness: uma função que nos diz o quão bom é cada trajeto (no nosso caso, quão curta é a distância)\n",
        "*   Mutação: uma forma de introduzir variação em nossa população trocando aleatoriamente duas cidades em uma rota\n",
        "*   Elitismo: uma forma de transportar os melhores indivíduos para a próxima geração\n",
        "\n",
        "Nosso AG prosseguirá nas seguintes etapas:\n",
        "\n",
        "\n",
        "1.   Crie a população\n",
        "2.   Determine o fitness\n",
        "3.   Selecione o pool de acasalamento\n",
        "4.   Faça o cruzamento\n",
        "5.   Faça a mutação\n",
        "6.   Repita\n",
        "\n"
      ]
    },
    {
      "cell_type": "markdown",
      "metadata": {
        "id": "QI3-kQO8XsWi"
      },
      "source": [
        "# **Construindo o algoritmo genético**"
      ]
    },
    {
      "cell_type": "markdown",
      "metadata": {
        "id": "CbSWA6lyX3m8"
      },
      "source": [
        "Primeiro vamos importar as bibliotecas que serão utilizadas"
      ]
    },
    {
      "cell_type": "code",
      "metadata": {
        "id": "4E_o_E4_X17K"
      },
      "source": [
        "import numpy as np\n",
        "import pandas as pd\n",
        "import random\n",
        "import operator\n",
        "import matplotlib.pyplot as plt"
      ],
      "execution_count": 1,
      "outputs": []
    },
    {
      "cell_type": "markdown",
      "metadata": {
        "id": "yzMQyMmMY2kq"
      },
      "source": [
        "### Criando as classes \"Cidade\" e \"Fitness\"\n",
        "\n",
        "A classe ```cidade``` nos permitirá criar e administrar as cidades. Estas são simplesmente nossas coordenadas (x, y). \n",
        "\n",
        "Dentro da classe ```cidade```, criamos a função ```distancia```, para calcular a distância usando o teorema de Pitágoras. E também criamos a função  ```__repr__``` para termos uma maneira mais limpa de gerar as cidades como coordenadas."
      ]
    },
    {
      "cell_type": "code",
      "metadata": {
        "id": "ylo1UehEaNRP"
      },
      "source": [
        "class Cidade:\n",
        "    def __init__(self, x, y):\n",
        "        self.x = x\n",
        "        self.y = y\n",
        "    \n",
        "    def distancia(self, cidade):\n",
        "        xDis = abs(self.x - cidade.x)\n",
        "        yDis = abs(self.y - cidade.y)\n",
        "        distancia = np.sqrt((xDis ** 2) + (yDis ** 2))\n",
        "        return distancia\n",
        "    \n",
        "    def __repr__(self):\n",
        "        return \"(\" + str(self.x) + \",\" + str(self.y) + \")\""
      ],
      "execution_count": 2,
      "outputs": []
    },
    {
      "cell_type": "markdown",
      "metadata": {
        "id": "ZdpA7Z2Ta0La"
      },
      "source": [
        "No nosso caso, a classe ```fitness``` será o inverso da distância da rota. Queremos minimizar a distância da rota, então uma pontuação de fitness maior é melhor. Com base na regra nº 2, precisamos começar e terminar no mesmo lugar, portanto, esse cálculo extra é contabilizado em ```if i + 1 < len(self.rota): cidadeDeChegada = self.rota[i + 1]```."
      ]
    },
    {
      "cell_type": "code",
      "metadata": {
        "id": "RrYZmkhpcCqX"
      },
      "source": [
        "class Fitness:\n",
        "    def __init__(self, rota):\n",
        "        self.rota = rota\n",
        "        self.distancia = 0\n",
        "        self.fitness = 0.0\n",
        "    \n",
        "    def rotaDistancia(self):\n",
        "        if self.distancia ==0:\n",
        "            caminhoDistancia = 0\n",
        "            for i in range(0, len(self.rota)):\n",
        "                cidadeDePartida = self.rota[i]\n",
        "                cidadeDeChegada = None\n",
        "                if i + 1 < len(self.rota):\n",
        "                    cidadeDeChegada = self.rota[i + 1]\n",
        "                else:\n",
        "                    cidadeDeChegada = self.rota[0]\n",
        "                caminhoDistancia += cidadeDePartida.distancia(cidadeDeChegada)\n",
        "            self.distancia = caminhoDistancia\n",
        "        return self.distancia\n",
        "    \n",
        "    def rotaFitness(self):\n",
        "        if self.fitness == 0:\n",
        "            self.fitness = 1 / float(self.rotaDistancia())\n",
        "        return self.fitness"
      ],
      "execution_count": 3,
      "outputs": []
    },
    {
      "cell_type": "markdown",
      "metadata": {
        "id": "MvllU-Trd8-E"
      },
      "source": [
        "### Criando a população\n",
        "\n",
        "\n",
        "Agora vamos criar nossa população inicial (também conhecida como primeira geração). Para fazer isso, precisamos criar uma função que produza rotas que satisfaçam nossas condições (obs.: vamos criar a lista de cidades quando executarmos o AG posteriormente). Para criar um indivíduo, selecionamos aleatoriamente a ordem em que visitamos cada cidade."
      ]
    },
    {
      "cell_type": "code",
      "metadata": {
        "id": "s_P_GW0sfbsn"
      },
      "source": [
        "def criarRota(listaDeCidades):\n",
        "  rota = random.sample(listaDeCidades, len(listaDeCidades))\n",
        "  return rota"
      ],
      "execution_count": 4,
      "outputs": []
    },
    {
      "cell_type": "markdown",
      "metadata": {
        "id": "yZhR3bNEfmSz"
      },
      "source": [
        "Isso produz um indivíduo, mas queremos uma população completa, então vamos fazer isso na próxima função. Iremos percorrer a função ```criarRota``` até que tenhamos quantas rotas quisermos para nossa população."
      ]
    },
    {
      "cell_type": "code",
      "metadata": {
        "id": "K3jFVSihgZod"
      },
      "source": [
        "def populacaoInicial(tamPop, listaDeCidades):\n",
        "    populacao = []\n",
        "\n",
        "    for i in range(0, tamPop):\n",
        "        populacao.append(criarRota(listaDeCidades))\n",
        "    return populacao"
      ],
      "execution_count": 5,
      "outputs": []
    },
    {
      "cell_type": "markdown",
      "metadata": {
        "id": "KxFHVYY1hPCt"
      },
      "source": [
        "### Determinando fitness\n",
        "\n",
        "Para simular a “sobrevivência do mais apto”, usamos ```Fitness``` para classificar cada indivíduo na população. A saída será uma lista ordenada com os IDs de rota e cada pontuação de fitness associada."
      ]
    },
    {
      "cell_type": "code",
      "metadata": {
        "id": "y8BhOQ72hieH"
      },
      "source": [
        "def rankRota(populacao):\n",
        "    fitnessResultado = {}\n",
        "    for i in range(0,len(populacao)):\n",
        "        fitnessResultado[i] = Fitness(populacao[i]).rotaFitness()\n",
        "    return sorted(fitnessResultado.items(), key = operator.itemgetter(1), reverse = True)"
      ],
      "execution_count": 6,
      "outputs": []
    },
    {
      "cell_type": "markdown",
      "metadata": {
        "id": "ciMtannrsZ0G"
      },
      "source": [
        "### Selecionando o pool de acasalamento (mating)\n",
        "\n",
        "Existem algumas opções de como selecionar os pais que serão usados ​​para criar a próxima geração. As abordagens mais comuns são a seleção proporcional de aptidão (também conhecida como \"seleção da roda de roleta\") ou a seleção por torneio:\n",
        "*   Seleção proporcional de aptidão (a versão implementada abaixo): a aptidão (fitness) de cada indivíduo em relação à população é usada para atribuir uma probabilidade de seleção. \n",
        "*   Seleção por torneio: um determinado número de indivíduos é selecionado aleatoriamente da população e aquele com a maior aptidão do grupo é escolhido como o primeiro pai. Isso é repetido para escolher o segundo pai.\n",
        "\n",
        "Outro recurso a ser considerado é o uso de elitismo. Com o elitismo, os indivíduos de melhor desempenho da população serão automaticamente transferidos para a próxima geração, garantindo que os indivíduos mais bem-sucedidos persistam.\n",
        "\n",
        "Criaremos o pool de acasalamento em duas etapas. Primeiro, usaremos a saída de ```rankRota``` para determinar quais rotas selecionar na função ```selecao```. Configuramos a roda da roleta calculando um peso de aptidão relativo para cada indivíduo. Comparamos um número sorteado aleatoriamente com esses pesos para selecionar nosso pool de acasalamento. Também queremos manter nossas melhores rotas, portanto, introduzimos o elitismo. Por fim, a função ```selecao``` retorna uma lista de IDs de rota, que podemos usar para criar o pool de acasalamento na função ```poolAcasalamento```."
      ]
    },
    {
      "cell_type": "code",
      "metadata": {
        "id": "xhtZ_68EskTD"
      },
      "source": [
        "def selecao(popRankeada, tamElite):\n",
        "    selecaoResultado = []\n",
        "    df = pd.DataFrame(np.array(popRankeada), columns=[\"Index\",\"Fitness\"])\n",
        "    df['cum_soma'] = df.Fitness.cumsum()\n",
        "    df['cum_perc'] = 100*df.cum_soma/df.Fitness.sum()\n",
        "    \n",
        "    for i in range(0, tamElite):\n",
        "        selecaoResultado.append(popRankeada[i][0])\n",
        "    for i in range(0, len(popRankeada) - tamElite):\n",
        "        escolha = 100*random.random()\n",
        "        for i in range(0, len(popRankeada)):\n",
        "            if escolha <= df.iat[i,3]:\n",
        "                selecaoResultado.append(popRankeada[i][0])\n",
        "                break\n",
        "    return selecaoResultado"
      ],
      "execution_count": 7,
      "outputs": []
    },
    {
      "cell_type": "markdown",
      "metadata": {
        "id": "2DojGZQiHT1F"
      },
      "source": [
        "Agora que temos os IDs das rotas que formarão nosso pool de acasalamento a partir da função ```selecao```, podemos criar o pool de acasalamento. Estamos simplesmente extraindo os indivíduos selecionados de nossa população."
      ]
    },
    {
      "cell_type": "code",
      "metadata": {
        "id": "arDM6COHHZT1"
      },
      "source": [
        "def poolAcasalamento(populacao, selecaoResultado):\n",
        "    poolacasalamento = []\n",
        "    for i in range(0, len(selecaoResultado)):\n",
        "        index = selecaoResultado[i]\n",
        "        poolacasalamento.append(populacao[index])\n",
        "    return poolacasalamento"
      ],
      "execution_count": 8,
      "outputs": []
    },
    {
      "cell_type": "markdown",
      "metadata": {
        "id": "p-htT1flJcB2"
      },
      "source": [
        "### Crossover\n",
        "\n",
        "Com o pool de acasalamento criado, podemos criar a próxima geração em um processo chamado crossover (também conhecido como “cruzamento”). Se nossos indivíduos fossem sequências de 0s e 1s e nossas duas regras não se aplicassem, poderíamos simplesmente escolher um ponto de cruzamento e unir as duas sequências para produzir uma prole.\n",
        "No entanto, no problema do caixeiro viajante precisamos incluir todos os locais exatamente uma vez. Para obedecer a essa regra, podemos usar uma função de criação especial chamada crossover ordenado. No cruzamento ordenado, selecionamos aleatoriamente um subconjunto da primeira string pai e, em seguida, preenchemos o restante da rota com os genes do segundo pai na ordem em que aparecem, sem duplicar quaisquer genes no subconjunto selecionado do primeiro pai.\n",
        "\n",
        "![image](https://slidetodoc.com/presentation_image_h/29be5a01446c578c89ee11b4fa597dcb/image-8.jpg)"
      ]
    },
    {
      "cell_type": "code",
      "metadata": {
        "id": "5y36HmvmZTek"
      },
      "source": [
        "def crossover(pai1, pai2):\n",
        "    filho = []\n",
        "    filhoP1 = []\n",
        "    gilhoP2 = []\n",
        "    \n",
        "    geneA = int(random.random() * len(pai1))\n",
        "    geneB = int(random.random() * len(pai1))\n",
        "    \n",
        "    inicioGene = min(geneA, geneB)\n",
        "    fimGene = max(geneA, geneB)\n",
        "\n",
        "    for i in range(inicioGene, fimGene):\n",
        "        filhoP1.append(pai1[i])\n",
        "        \n",
        "    filhoP2 = [item for item in pai2 if item not in filhoP1]\n",
        "\n",
        "    filho = filhoP1 + filhoP2\n",
        "    return filho"
      ],
      "execution_count": 9,
      "outputs": []
    },
    {
      "cell_type": "markdown",
      "metadata": {
        "id": "4hQPbVvAZ7dP"
      },
      "source": [
        "Agora, generalizaremos isso para criar nossa população de descendentes. Usamos o elitismo para reter as melhores rotas da população atual. Então, usamos a função ```crossover``` para preencher o restante da próxima geração."
      ]
    },
    {
      "cell_type": "code",
      "metadata": {
        "id": "q5llrTm2Z7JC"
      },
      "source": [
        "def crossoverPopulacao(poolAcasalamento, tamElite):\n",
        "    filhos = []\n",
        "    comp = len(poolAcasalamento) - tamElite\n",
        "    pool = random.sample(poolAcasalamento, len(poolAcasalamento))\n",
        "\n",
        "    for i in range(0, tamElite):\n",
        "        filhos.append(poolAcasalamento[i])\n",
        "    \n",
        "    for i in range(0, comp):\n",
        "        filho = crossover(pool[i], pool[len(poolAcasalamento)-i-1])\n",
        "        filhos.append(filho)\n",
        "    return filhos"
      ],
      "execution_count": 10,
      "outputs": []
    },
    {
      "cell_type": "markdown",
      "metadata": {
        "id": "NNL7BjdKbZUD"
      },
      "source": [
        "### Mutação\n",
        "\n",
        "A mutação tem uma função importante em AG, pois ajuda a evitar a convergência local, introduzindo novas rotas que nos permitirão explorar outras partes do espaço de solução. Semelhante ao crossover, o problema do caixeiro viajante tem uma consideração especial quando se trata de mutação. Novamente, se tivéssemos um cromossomo de 0s e 1s, a mutação significaria simplesmente atribuir uma baixa probabilidade de um gene mudar de 0 para 1, ou vice-versa.\n",
        "\n",
        "No entanto, como precisamos cumprir com as regras, não podemos abandonar as cidades. Em vez disso, usaremos a mutação utilizando a técnica de troca (swap). Isso significa que, com baixa probabilidade especificada, duas cidades trocarão de lugar em nossa rota. Faremos isso para um indivíduo na função ```mutacao```."
      ]
    },
    {
      "cell_type": "code",
      "metadata": {
        "id": "4EPki4IzcOu7"
      },
      "source": [
        "def mutacao(individuo, taxaMutacao):\n",
        "    for trocado in range(len(individuo)):\n",
        "        if(random.random() < taxaMutacao):\n",
        "            trocaCom = int(random.random() * len(individuo))\n",
        "            \n",
        "            cidade1 = individuo[trocado]\n",
        "            cidade2 = individuo[trocaCom]\n",
        "            \n",
        "            individuo[trocado] = cidade2\n",
        "            individuo[trocaCom] = cidade1\n",
        "    return individuo"
      ],
      "execution_count": 11,
      "outputs": []
    },
    {
      "cell_type": "markdown",
      "metadata": {
        "id": "1dG3xwV2dGBj"
      },
      "source": [
        "Em seguida, podemos estender a função ```mutacao``` para percorrer a nova população."
      ]
    },
    {
      "cell_type": "code",
      "metadata": {
        "id": "sSnzaD1mdO5p"
      },
      "source": [
        "def mutacaoPopulacao(populacao, taxaMutacao):\n",
        "    popPosMutacao = []\n",
        "    \n",
        "    for ind in range(0, len(populacao)):\n",
        "        indPosMutacao = mutacao(populacao[ind], taxaMutacao)\n",
        "        popPosMutacao.append(indPosMutacao)\n",
        "    return popPosMutacao"
      ],
      "execution_count": 12,
      "outputs": []
    },
    {
      "cell_type": "markdown",
      "metadata": {
        "id": "pu40_vagBqRn"
      },
      "source": [
        "### Repetição\n",
        "Vamos juntar tudo isso para criar uma função que produza uma nova geração. Primeiro, classificamos as rotas na geração atual usando ```rankRota```. Em seguida, determinamos os pais em potencial executando a função ```selecao```, o que nos permite criar o pool de acasalamento usando a função ```poolAcasalamento```. Por fim, criamos a nova geração usando a função ```crossoverPopulacao``` e, em seguida, aplicamos a mutação usando a função  ```mutacaoPopulacao```."
      ]
    },
    {
      "cell_type": "code",
      "metadata": {
        "id": "utHj2t_MvBDc"
      },
      "source": [
        "def proxGeracao(atualGeracao, tamElite, taxaMutacao):\n",
        "    popRankeada = rankRota(atualGeracao)\n",
        "    selecaoResultado = selecao(popRankeada, tamElite)\n",
        "    poolacasalamento = poolAcasalamento(atualGeracao, selecaoResultado)\n",
        "    filhos = crossoverPopulacao(poolacasalamento, tamElite)\n",
        "    proxGeracao = mutacaoPopulacao(filhos, taxaMutacao)\n",
        "    return proxGeracao"
      ],
      "execution_count": 13,
      "outputs": []
    },
    {
      "cell_type": "markdown",
      "metadata": {
        "id": "CNt2XN31Cg0z"
      },
      "source": [
        "### Criação da função AG\n",
        "\n",
        "Agora, só precisamos criar a população inicial e, então, poderemos passar por quantas gerações desejarmos. Como também queremos ver a melhor rota e o quanto melhoramos, capturamos a distância inicial (a distância é o inverso do fitness), a distância final e a melhor rota."
      ]
    },
    {
      "cell_type": "code",
      "metadata": {
        "id": "_oK6pXf2vysr"
      },
      "source": [
        "def algoritmoGenetico(populacao, tamPop, tamElite, taxaMutacao, geracoes):\n",
        "    pop = populacaoInicial(tamPop, populacao)\n",
        "    print(\"Distância inicial: \" + str(1 / rankRota(pop)[0][1]))\n",
        "    \n",
        "    for i in range(0, geracoes):\n",
        "        pop = proxGeracao(pop, tamElite, taxaMutacao)\n",
        "    \n",
        "    print(\"Distância final: \" + str(1 / rankRota(pop)[0][1]))\n",
        "    melhorRotaIndex = rankRota(pop)[0][0]\n",
        "    melhorRota = pop[melhorRotaIndex]\n",
        "    return melhorRota"
      ],
      "execution_count": 14,
      "outputs": []
    },
    {
      "cell_type": "markdown",
      "metadata": {
        "id": "rHOjWZLpDV5Z"
      },
      "source": [
        "# **Rodando o algoritmo genético**\n",
        "\n",
        "Primeiro, precisamos de uma lista de cidades entre as quais viajar. Para esta demonstração, criamos uma lista de 25 cidades aleatórias."
      ]
    },
    {
      "cell_type": "code",
      "metadata": {
        "id": "hUIAaJVlwjmn"
      },
      "source": [
        "listaDeCidades = []\n",
        "\n",
        "for i in range(0,25):\n",
        "    listaDeCidades.append(Cidade(x=int(random.random() * 200), y=int(random.random() * 200)))"
      ],
      "execution_count": 15,
      "outputs": []
    },
    {
      "cell_type": "markdown",
      "metadata": {
        "id": "146WQT-fEErb"
      },
      "source": [
        "Então, a execução do algoritmo genético é uma linha de código. Neste exemplo, temos 100 indivíduos em cada geração, mantemos 20 indivíduos de elite, usamos uma taxa de mutação de 1% para um determinado gene e percorremos 500 gerações."
      ]
    },
    {
      "cell_type": "code",
      "metadata": {
        "colab": {
          "base_uri": "https://localhost:8080/"
        },
        "id": "lxyEchMawjbT",
        "outputId": "cf0956cb-517c-4d80-a698-9265b9ca24a6"
      },
      "source": [
        "algoritmoGenetico(populacao=listaDeCidades, tamPop=100, tamElite=20, taxaMutacao=0.01, geracoes=500)"
      ],
      "execution_count": 16,
      "outputs": [
        {
          "output_type": "stream",
          "text": [
            "Distância inicial: 1939.4274682514626\n",
            "Distância final: 966.5307749602428\n"
          ],
          "name": "stdout"
        },
        {
          "output_type": "execute_result",
          "data": {
            "text/plain": [
              "[(154,66),\n",
              " (137,55),\n",
              " (64,41),\n",
              " (61,65),\n",
              " (0,66),\n",
              " (27,127),\n",
              " (70,181),\n",
              " (106,194),\n",
              " (160,136),\n",
              " (173,149),\n",
              " (187,128),\n",
              " (197,144),\n",
              " (193,199),\n",
              " (172,192),\n",
              " (162,177),\n",
              " (148,194),\n",
              " (146,172),\n",
              " (133,151),\n",
              " (105,115),\n",
              " (119,79),\n",
              " (149,45),\n",
              " (156,41),\n",
              " (185,15),\n",
              " (182,75),\n",
              " (181,101)]"
            ]
          },
          "metadata": {
            "tags": []
          },
          "execution_count": 16
        }
      ]
    },
    {
      "cell_type": "markdown",
      "metadata": {
        "id": "hbcpoStKEN_R"
      },
      "source": [
        "### Melhorando a visualização dos dados: Plotando a melhoria da distância \n",
        "\n",
        "Ao notarmos como a distância melhorou com o tempo, ajustamos a função ```algoritmoGenetico```, armazenando a distância mais curta de cada geração em uma lista de progresso, e em seguida plotamos os resultados."
      ]
    },
    {
      "cell_type": "code",
      "metadata": {
        "id": "kkMCnf31wnWF"
      },
      "source": [
        "def plotAlgoritmoGenetico(populacao, tamPop, tamElite, taxaMutacao, geracoes):\n",
        "    pop = populacaoInicial(tamPop, populacao)\n",
        "    progresso = []\n",
        "    progresso.append(1 / rankRota(pop)[0][1])\n",
        "    \n",
        "    for i in range(0, geracoes):\n",
        "        pop = proxGeracao(pop, tamElite, taxaMutacao)\n",
        "        progresso.append(1 / rankRota(pop)[0][1])\n",
        "  \n",
        "    plt.plot(progresso)\n",
        "    plt.ylabel('Distância')\n",
        "    plt.xlabel('Geração')\n",
        "    plt.show()"
      ],
      "execution_count": 17,
      "outputs": []
    },
    {
      "cell_type": "code",
      "metadata": {
        "colab": {
          "base_uri": "https://localhost:8080/",
          "height": 279
        },
        "id": "_Uy9FLoZwqRC",
        "outputId": "6ea8af3f-5eaa-4f9d-bd0b-7d2657dbe2e1"
      },
      "source": [
        "plotAlgoritmoGenetico(populacao=listaDeCidades, tamPop=100, tamElite=20, taxaMutacao=0.01, geracoes=500)\n"
      ],
      "execution_count": 18,
      "outputs": [
        {
          "output_type": "display_data",
          "data": {
            "image/png": "[encoded data removed]",
            "text/plain": [
              "<Figure size 432x288 with 1 Axes>"
            ]
          },
          "metadata": {
            "tags": [],
            "needs_background": "light"
          }
        }
      ]
    },
    {
      "cell_type": "markdown",
      "metadata": {
        "id": "1EeTXN3OI4l-"
      },
      "source": [
        "# Referências\n",
        "\n",
        "http://www.theprojectspot.com/tutorial-post/applying-a-genetic-algorithm-to-the-travelling-salesman-problem/5\n",
        "\n",
        "https://gist.github.com/turbofart/3428880\n",
        "\n",
        "https://gist.github.com/NicolleLouis/d4f88d5bd566298d4279bcb69934f51d\n",
        "\n",
        "https://pt.wikipedia.org/wiki/Problema_do_caixeiro-viajante\n"
      ]
    }
  ]
}